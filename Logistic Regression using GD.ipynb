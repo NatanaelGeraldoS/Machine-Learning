{
  "cells": [
    {
      "cell_type": "markdown",
      "metadata": {
        "id": "aIGtrvKkaCwL"
      },
      "source": [
        "# Logistic Regresion With GD (Gradient Descent)\n",
        "hasil yang didapatkan dengan iterasi 50000 dan Learning Rate sebesar 0.5\n",
        "\n",
        "w : [-22.86225049, -32.07887625]\n",
        "\n",
        "bias : 29.722984605583232"
      ]
    },
    {
      "cell_type": "markdown",
      "metadata": {
        "id": "a3LgMUEzarvA"
      },
      "source": [
        "# Import Library dan Data yang dibutuh"
      ]
    },
    {
      "cell_type": "code",
      "execution_count": 1,
      "metadata": {
        "id": "9PeNER8usmQa"
      },
      "outputs": [],
      "source": [
        "import pandas as pd\n",
        "import numpy as np\n",
        "from sklearn.metrics import r2_score\n",
        "import matplotlib.pyplot as plt\n",
        "from math import exp\n",
        "import seaborn as sns\n",
        "from sklearn.linear_model import LogisticRegression\n"
      ]
    },
    {
      "cell_type": "code",
      "execution_count": 2,
      "metadata": {
        "id": "NK4NDkFmsmQc"
      },
      "outputs": [],
      "source": [
        "X_train = np.array([[0.08, 0.72], [0.26, 0.58], [0.45, 0.15], [0.60, 0.30], [0.10, 1.0], [0.35, 0.95], [0.70, 0.65], [0.92, 0.45]])\n",
        "\n",
        "y_train = np.array([1, 1, 1, 1, 0, 0, 0, 0])\n",
        "\n",
        "X_test = np.array([[0.10, 0.9], [0.4, 0.2], [0.8, 0.5], [0.2, 0.6]])\n"
      ]
    },
    {
      "cell_type": "code",
      "execution_count": 3,
      "metadata": {
        "colab": {
          "base_uri": "https://localhost:8080/",
          "height": 297
        },
        "id": "WOtmN43UsmQc",
        "outputId": "886f20eb-79c6-489d-e803-e9810ef29fd7"
      },
      "outputs": [
        {
          "data": {
            "text/html": [
              "<div>\n",
              "<style scoped>\n",
              "    .dataframe tbody tr th:only-of-type {\n",
              "        vertical-align: middle;\n",
              "    }\n",
              "\n",
              "    .dataframe tbody tr th {\n",
              "        vertical-align: top;\n",
              "    }\n",
              "\n",
              "    .dataframe thead th {\n",
              "        text-align: right;\n",
              "    }\n",
              "</style>\n",
              "<table border=\"1\" class=\"dataframe\">\n",
              "  <thead>\n",
              "    <tr style=\"text-align: right;\">\n",
              "      <th></th>\n",
              "      <th>x</th>\n",
              "      <th>y</th>\n",
              "      <th>Class</th>\n",
              "    </tr>\n",
              "  </thead>\n",
              "  <tbody>\n",
              "    <tr>\n",
              "      <th>0</th>\n",
              "      <td>0.08</td>\n",
              "      <td>0.72</td>\n",
              "      <td>1</td>\n",
              "    </tr>\n",
              "    <tr>\n",
              "      <th>1</th>\n",
              "      <td>0.26</td>\n",
              "      <td>0.58</td>\n",
              "      <td>1</td>\n",
              "    </tr>\n",
              "    <tr>\n",
              "      <th>2</th>\n",
              "      <td>0.45</td>\n",
              "      <td>0.15</td>\n",
              "      <td>1</td>\n",
              "    </tr>\n",
              "    <tr>\n",
              "      <th>3</th>\n",
              "      <td>0.60</td>\n",
              "      <td>0.30</td>\n",
              "      <td>1</td>\n",
              "    </tr>\n",
              "    <tr>\n",
              "      <th>4</th>\n",
              "      <td>0.10</td>\n",
              "      <td>1.00</td>\n",
              "      <td>0</td>\n",
              "    </tr>\n",
              "    <tr>\n",
              "      <th>5</th>\n",
              "      <td>0.35</td>\n",
              "      <td>0.95</td>\n",
              "      <td>0</td>\n",
              "    </tr>\n",
              "    <tr>\n",
              "      <th>6</th>\n",
              "      <td>0.70</td>\n",
              "      <td>0.65</td>\n",
              "      <td>0</td>\n",
              "    </tr>\n",
              "    <tr>\n",
              "      <th>7</th>\n",
              "      <td>0.92</td>\n",
              "      <td>0.45</td>\n",
              "      <td>0</td>\n",
              "    </tr>\n",
              "  </tbody>\n",
              "</table>\n",
              "</div>"
            ],
            "text/plain": [
              "      x     y  Class\n",
              "0  0.08  0.72      1\n",
              "1  0.26  0.58      1\n",
              "2  0.45  0.15      1\n",
              "3  0.60  0.30      1\n",
              "4  0.10  1.00      0\n",
              "5  0.35  0.95      0\n",
              "6  0.70  0.65      0\n",
              "7  0.92  0.45      0"
            ]
          },
          "execution_count": 3,
          "metadata": {},
          "output_type": "execute_result"
        }
      ],
      "source": [
        "dfComplete = dfX_Train = pd.DataFrame(X_train, columns=['x', 'y'])\n",
        "dfComplete['Class'] = pd.DataFrame(y_train)\n",
        "dfComplete\n"
      ]
    },
    {
      "cell_type": "code",
      "execution_count": 21,
      "metadata": {},
      "outputs": [
        {
          "data": {
            "text/plain": [
              "numpy.ndarray"
            ]
          },
          "execution_count": 21,
          "metadata": {},
          "output_type": "execute_result"
        }
      ],
      "source": [
        "type(y_train)"
      ]
    },
    {
      "cell_type": "markdown",
      "metadata": {
        "id": "JqdpIyd4azbP"
      },
      "source": [
        "# Visualisasi data menggunakan Scatter"
      ]
    },
    {
      "cell_type": "code",
      "execution_count": 4,
      "metadata": {
        "colab": {
          "base_uri": "https://localhost:8080/",
          "height": 282
        },
        "id": "JPbjmq39smQd",
        "outputId": "37441261-ecbf-42de-bb35-25d750498cd1"
      },
      "outputs": [
        {
          "data": {
            "text/plain": [
              "<AxesSubplot:>"
            ]
          },
          "execution_count": 4,
          "metadata": {},
          "output_type": "execute_result"
        },
        {
          "data": {
            "image/png": "[encoded data removed]",
            "text/plain": [
              "<Figure size 432x288 with 1 Axes>"
            ]
          },
          "metadata": {
            "needs_background": "light"
          },
          "output_type": "display_data"
        }
      ],
      "source": [
        "sns.scatterplot(x=X_train[:, 0], y=X_train[:, 1], hue=y_train, s=100)"
      ]
    },
    {
      "cell_type": "markdown",
      "metadata": {
        "id": "BcZL__NPa4ak"
      },
      "source": [
        "# Membuat class untuk kebutuhan Logistic Regression dengan menggunakan Gradient Desent"
      ]
    },
    {
      "cell_type": "code",
      "execution_count": 5,
      "metadata": {
        "id": "mRNBHxDPsmQd"
      },
      "outputs": [],
      "source": [
        "class LogisticRegressionManual():\n",
        "    def __init__(self, Iteration, LearningRate):\n",
        "        self.LearningRate = LearningRate\n",
        "        self.iteration = Iteration\n",
        "\n",
        "    def fittingData(self, X, y):\n",
        "        self.col, self.row = X.shape\n",
        "        self.m = np.zeros(self.row)\n",
        "        self.b = 0\n",
        "        self.X = X\n",
        "        self.Y = y\n",
        "        loss = []\n",
        "\n",
        "        for _ in range(self.iteration) :\n",
        "            A = 1/(1 + np.exp(-(np.dot(self.X, self.m) + self.b)))\n",
        "            # print(A)\n",
        "            Temp = (A - self.Y.T)\n",
        "            Temp = np.reshape(Temp, self.col)\n",
        "            Newb = np.sum(Temp)/self.col\n",
        "            Newm = np.dot(self.X.T, Temp)/ self.col\n",
        "            self.b -= Newb*self.LearningRate\n",
        "            self.m -= Newm*self.LearningRate\n",
        "            LossData = -1 * sum(y*np.log(A) + (1-y)*np.log(1-A))\n",
        "            loss.append(LossData)\n",
        "\n",
        "        return loss\n"
      ]
    },
    {
      "cell_type": "markdown",
      "metadata": {
        "id": "2uNI8XCNbC43"
      },
      "source": [
        "# Fungsi untuk melakukan prediksi data berdasarkan m dan Bias yang diberikan"
      ]
    },
    {
      "cell_type": "code",
      "execution_count": 6,
      "metadata": {
        "id": "e2RiPdHssmQe"
      },
      "outputs": [],
      "source": [
        "def PredictResult(X, m, b):\n",
        "    Z = 1 / (1 + np.exp(- (X.dot(m) + b)))\n",
        "    Y = np.where(Z > 0.5, 1, 0)\n",
        "    return Z, Y\n"
      ]
    },
    {
      "cell_type": "markdown",
      "metadata": {
        "id": "U3w4iyVobKuS"
      },
      "source": [
        "#Pemanggilan Model dan mencari m dan bias yang didapatkan dengan menggunakan 50000 iterasi dengan learning rate 0.5"
      ]
    },
    {
      "cell_type": "code",
      "execution_count": 7,
      "metadata": {
        "colab": {
          "base_uri": "https://localhost:8080/"
        },
        "id": "G-0pwI21smQe",
        "outputId": "2b9814a9-2be5-48e5-8e2a-9218206cb10c"
      },
      "outputs": [
        {
          "name": "stdout",
          "output_type": "stream",
          "text": [
            "[-22.86225049 -32.07887625] 29.722984605583232\n"
          ]
        }
      ],
      "source": [
        "ModelManual = LogisticRegressionManual(50000, 0.5)\n",
        "loss = ModelManual.fittingData(X_train, y_train)\n",
        "print(ModelManual.m, ModelManual.b)\n"
      ]
    },
    {
      "cell_type": "markdown",
      "metadata": {
        "id": "p3RnTco0bV6F"
      },
      "source": [
        "# Visualisasi hasil loss dari iterasi diatas"
      ]
    },
    {
      "cell_type": "code",
      "execution_count": 8,
      "metadata": {
        "colab": {
          "base_uri": "https://localhost:8080/",
          "height": 282
        },
        "id": "LA2LiN1tO-Ws",
        "outputId": "c377e06b-ff44-4663-9e57-91744ca6a59a"
      },
      "outputs": [
        {
          "data": {
            "text/plain": [
              "[<matplotlib.lines.Line2D at 0x2041c2db760>]"
            ]
          },
          "execution_count": 8,
          "metadata": {},
          "output_type": "execute_result"
        },
        {
          "data": {
            "image/png": "[encoded data removed]",
            "text/plain": [
              "<Figure size 432x288 with 1 Axes>"
            ]
          },
          "metadata": {
            "needs_background": "light"
          },
          "output_type": "display_data"
        }
      ],
      "source": [
        "plt.plot(np.arange(ModelManual.iteration), loss[0:])"
      ]
    },
    {
      "cell_type": "markdown",
      "metadata": {
        "id": "_38NR_IkbaoH"
      },
      "source": [
        "#Hasil Prediksi yang didapatkan berdasarkan m dan bias untuk data training"
      ]
    },
    {
      "cell_type": "code",
      "execution_count": 9,
      "metadata": {
        "colab": {
          "base_uri": "https://localhost:8080/"
        },
        "id": "hWU40IL2smQe",
        "outputId": "93c61644-b8ec-463c-b846-fdb293b098d0"
      },
      "outputs": [
        {
          "data": {
            "text/html": [
              "<div>\n",
              "<style scoped>\n",
              "    .dataframe tbody tr th:only-of-type {\n",
              "        vertical-align: middle;\n",
              "    }\n",
              "\n",
              "    .dataframe tbody tr th {\n",
              "        vertical-align: top;\n",
              "    }\n",
              "\n",
              "    .dataframe thead th {\n",
              "        text-align: right;\n",
              "    }\n",
              "</style>\n",
              "<table border=\"1\" class=\"dataframe\">\n",
              "  <thead>\n",
              "    <tr style=\"text-align: right;\">\n",
              "      <th></th>\n",
              "      <th>raw</th>\n",
              "      <th>Treshold</th>\n",
              "    </tr>\n",
              "  </thead>\n",
              "  <tbody>\n",
              "    <tr>\n",
              "      <th>0</th>\n",
              "      <td>0.991815</td>\n",
              "      <td>1</td>\n",
              "    </tr>\n",
              "    <tr>\n",
              "      <th>1</th>\n",
              "      <td>0.994365</td>\n",
              "      <td>1</td>\n",
              "    </tr>\n",
              "    <tr>\n",
              "      <th>2</th>\n",
              "      <td>1.000000</td>\n",
              "      <td>1</td>\n",
              "    </tr>\n",
              "    <tr>\n",
              "      <th>3</th>\n",
              "      <td>0.998311</td>\n",
              "      <td>1</td>\n",
              "    </tr>\n",
              "    <tr>\n",
              "      <th>4</th>\n",
              "      <td>0.009545</td>\n",
              "      <td>0</td>\n",
              "    </tr>\n",
              "    <tr>\n",
              "      <th>5</th>\n",
              "      <td>0.000158</td>\n",
              "      <td>0</td>\n",
              "    </tr>\n",
              "    <tr>\n",
              "      <th>6</th>\n",
              "      <td>0.000799</td>\n",
              "      <td>0</td>\n",
              "    </tr>\n",
              "    <tr>\n",
              "      <th>7</th>\n",
              "      <td>0.003186</td>\n",
              "      <td>0</td>\n",
              "    </tr>\n",
              "  </tbody>\n",
              "</table>\n",
              "</div>"
            ],
            "text/plain": [
              "        raw  Treshold\n",
              "0  0.991815         1\n",
              "1  0.994365         1\n",
              "2  1.000000         1\n",
              "3  0.998311         1\n",
              "4  0.009545         0\n",
              "5  0.000158         0\n",
              "6  0.000799         0\n",
              "7  0.003186         0"
            ]
          },
          "execution_count": 9,
          "metadata": {},
          "output_type": "execute_result"
        }
      ],
      "source": [
        "y_raw, y_treshold = PredictResult(X_train, ModelManual.m, ModelManual.b)\n",
        "DFX_train = pd.DataFrame({'raw' : y_raw, 'Treshold' : y_treshold})\n",
        "DFX_train"
      ]
    },
    {
      "cell_type": "markdown",
      "metadata": {
        "id": "qxCVwZ0bbhDz"
      },
      "source": [
        "# Hasil training dan prediksi memiliki akurasi 100%, yang berarti w dan bias dapat menentukan class dari data training dengan baik"
      ]
    },
    {
      "cell_type": "code",
      "execution_count": 10,
      "metadata": {
        "colab": {
          "base_uri": "https://localhost:8080/"
        },
        "id": "lo5WkiocsmQf",
        "outputId": "c9760eda-d6ec-4250-f1cd-7a9764684241"
      },
      "outputs": [
        {
          "name": "stdout",
          "output_type": "stream",
          "text": [
            "Accuracy :  100.0 %\n"
          ]
        }
      ],
      "source": [
        "count = 0\n",
        "correct = 0\n",
        "for count in range(np.size(y_treshold)):\n",
        "    if(y_treshold[count] == y_train[count]):\n",
        "        correct+=1\n",
        "    count+=1\n",
        "print(\"Accuracy : \", correct/count *100, \"%\")\n"
      ]
    },
    {
      "cell_type": "markdown",
      "metadata": {
        "id": "VuV1pnvgbr_y"
      },
      "source": [
        "# kita melakukan prediksi dari data testing yang diberikan pada X_test, dan menghasilkan [0, 1, 0, 1]"
      ]
    },
    {
      "cell_type": "code",
      "execution_count": 11,
      "metadata": {
        "colab": {
          "base_uri": "https://localhost:8080/"
        },
        "id": "Eaua-ZXXsmQf",
        "outputId": "6e79a809-a0b0-4589-b22e-f576bf6d7943"
      },
      "outputs": [
        {
          "data": {
            "text/html": [
              "<div>\n",
              "<style scoped>\n",
              "    .dataframe tbody tr th:only-of-type {\n",
              "        vertical-align: middle;\n",
              "    }\n",
              "\n",
              "    .dataframe tbody tr th {\n",
              "        vertical-align: top;\n",
              "    }\n",
              "\n",
              "    .dataframe thead th {\n",
              "        text-align: right;\n",
              "    }\n",
              "</style>\n",
              "<table border=\"1\" class=\"dataframe\">\n",
              "  <thead>\n",
              "    <tr style=\"text-align: right;\">\n",
              "      <th></th>\n",
              "      <th>raw</th>\n",
              "      <th>Treshold</th>\n",
              "    </tr>\n",
              "  </thead>\n",
              "  <tbody>\n",
              "    <tr>\n",
              "      <th>0</th>\n",
              "      <td>0.192441</td>\n",
              "      <td>0</td>\n",
              "    </tr>\n",
              "    <tr>\n",
              "      <th>1</th>\n",
              "      <td>0.999999</td>\n",
              "      <td>1</td>\n",
              "    </tr>\n",
              "    <tr>\n",
              "      <th>2</th>\n",
              "      <td>0.009890</td>\n",
              "      <td>0</td>\n",
              "    </tr>\n",
              "    <tr>\n",
              "      <th>3</th>\n",
              "      <td>0.997277</td>\n",
              "      <td>1</td>\n",
              "    </tr>\n",
              "  </tbody>\n",
              "</table>\n",
              "</div>"
            ],
            "text/plain": [
              "        raw  Treshold\n",
              "0  0.192441         0\n",
              "1  0.999999         1\n",
              "2  0.009890         0\n",
              "3  0.997277         1"
            ]
          },
          "execution_count": 11,
          "metadata": {},
          "output_type": "execute_result"
        }
      ],
      "source": [
        "y_rawtest, y_tresholdtest = PredictResult(X_test, ModelManual.m, ModelManual.b)\n",
        "DFX_test = pd.DataFrame({'raw': y_rawtest, 'Treshold': y_tresholdtest})\n",
        "DFX_test\n"
      ]
    },
    {
      "cell_type": "markdown",
      "metadata": {
        "id": "nrPvnCFnbyur"
      },
      "source": [
        "#Manipulasi data untuk visualisasi data"
      ]
    },
    {
      "cell_type": "code",
      "execution_count": 12,
      "metadata": {
        "colab": {
          "base_uri": "https://localhost:8080/"
        },
        "id": "G8NoUx0LsmQf",
        "outputId": "4a14ab1d-bab3-4b43-ae23-a997478a7530"
      },
      "outputs": [
        {
          "data": {
            "text/plain": [
              "array([1, 1, 1, 1, 0, 0, 0, 0, 0, 1, 0, 1])"
            ]
          },
          "execution_count": 12,
          "metadata": {},
          "output_type": "execute_result"
        }
      ],
      "source": [
        "y_all = []\n",
        "for data in y_train:\n",
        "    y_all.append(data)\n",
        "for data in y_tresholdtest:\n",
        "    y_all.append(data)\n",
        "arrayY_all = np.array(y_all)\n",
        "arrayY_all\n"
      ]
    },
    {
      "cell_type": "code",
      "execution_count": 13,
      "metadata": {
        "colab": {
          "base_uri": "https://localhost:8080/",
          "height": 421
        },
        "id": "SAkE5vDjsmQf",
        "outputId": "ce0579c2-0ac2-4cb5-878a-306ab395d89f"
      },
      "outputs": [
        {
          "data": {
            "text/html": [
              "<div>\n",
              "<style scoped>\n",
              "    .dataframe tbody tr th:only-of-type {\n",
              "        vertical-align: middle;\n",
              "    }\n",
              "\n",
              "    .dataframe tbody tr th {\n",
              "        vertical-align: top;\n",
              "    }\n",
              "\n",
              "    .dataframe thead th {\n",
              "        text-align: right;\n",
              "    }\n",
              "</style>\n",
              "<table border=\"1\" class=\"dataframe\">\n",
              "  <thead>\n",
              "    <tr style=\"text-align: right;\">\n",
              "      <th></th>\n",
              "      <th>x</th>\n",
              "      <th>y</th>\n",
              "      <th>Class</th>\n",
              "    </tr>\n",
              "  </thead>\n",
              "  <tbody>\n",
              "    <tr>\n",
              "      <th>0</th>\n",
              "      <td>0.08</td>\n",
              "      <td>0.72</td>\n",
              "      <td>1</td>\n",
              "    </tr>\n",
              "    <tr>\n",
              "      <th>1</th>\n",
              "      <td>0.26</td>\n",
              "      <td>0.58</td>\n",
              "      <td>1</td>\n",
              "    </tr>\n",
              "    <tr>\n",
              "      <th>2</th>\n",
              "      <td>0.45</td>\n",
              "      <td>0.15</td>\n",
              "      <td>1</td>\n",
              "    </tr>\n",
              "    <tr>\n",
              "      <th>3</th>\n",
              "      <td>0.60</td>\n",
              "      <td>0.30</td>\n",
              "      <td>1</td>\n",
              "    </tr>\n",
              "    <tr>\n",
              "      <th>4</th>\n",
              "      <td>0.10</td>\n",
              "      <td>1.00</td>\n",
              "      <td>0</td>\n",
              "    </tr>\n",
              "    <tr>\n",
              "      <th>5</th>\n",
              "      <td>0.35</td>\n",
              "      <td>0.95</td>\n",
              "      <td>0</td>\n",
              "    </tr>\n",
              "    <tr>\n",
              "      <th>6</th>\n",
              "      <td>0.70</td>\n",
              "      <td>0.65</td>\n",
              "      <td>0</td>\n",
              "    </tr>\n",
              "    <tr>\n",
              "      <th>7</th>\n",
              "      <td>0.92</td>\n",
              "      <td>0.45</td>\n",
              "      <td>0</td>\n",
              "    </tr>\n",
              "    <tr>\n",
              "      <th>0</th>\n",
              "      <td>0.10</td>\n",
              "      <td>0.90</td>\n",
              "      <td>0</td>\n",
              "    </tr>\n",
              "    <tr>\n",
              "      <th>1</th>\n",
              "      <td>0.40</td>\n",
              "      <td>0.20</td>\n",
              "      <td>1</td>\n",
              "    </tr>\n",
              "    <tr>\n",
              "      <th>2</th>\n",
              "      <td>0.80</td>\n",
              "      <td>0.50</td>\n",
              "      <td>0</td>\n",
              "    </tr>\n",
              "    <tr>\n",
              "      <th>3</th>\n",
              "      <td>0.20</td>\n",
              "      <td>0.60</td>\n",
              "      <td>1</td>\n",
              "    </tr>\n",
              "  </tbody>\n",
              "</table>\n",
              "</div>"
            ],
            "text/plain": [
              "      x     y  Class\n",
              "0  0.08  0.72      1\n",
              "1  0.26  0.58      1\n",
              "2  0.45  0.15      1\n",
              "3  0.60  0.30      1\n",
              "4  0.10  1.00      0\n",
              "5  0.35  0.95      0\n",
              "6  0.70  0.65      0\n",
              "7  0.92  0.45      0\n",
              "0  0.10  0.90      0\n",
              "1  0.40  0.20      1\n",
              "2  0.80  0.50      0\n",
              "3  0.20  0.60      1"
            ]
          },
          "execution_count": 13,
          "metadata": {},
          "output_type": "execute_result"
        }
      ],
      "source": [
        "dfX_test = pd.DataFrame(X_test, columns=['x','y'])\n",
        "dfX_test['Class'] = pd.DataFrame(y_tresholdtest)\n",
        "dfX_all = pd.concat([dfComplete, dfX_test])\n",
        "dfX_all\n"
      ]
    },
    {
      "cell_type": "code",
      "execution_count": 14,
      "metadata": {
        "id": "Y7gyF5-Vv7zd"
      },
      "outputs": [],
      "source": [
        "dftrain = pd.DataFrame(X_train, columns=['x','y'])\n",
        "dftest = pd.DataFrame(X_test, columns=['x','y'])\n",
        "dfall = pd.concat([dftrain, dftest])\n",
        "arrayX_all = dfall.to_numpy()"
      ]
    },
    {
      "cell_type": "markdown",
      "metadata": {
        "id": "K3H5XO-pb3YM"
      },
      "source": [
        "# Boundary Decision yang didapatkan berdasarkan m dan bias untuk data training"
      ]
    },
    {
      "cell_type": "code",
      "execution_count": 15,
      "metadata": {
        "id": "bTZrIJfK_9oX"
      },
      "outputs": [],
      "source": [
        "def BoundaryDecisionLine(X) :\n",
        " return (-1 * ModelManual.b / ModelManual.m[1]) + ((-1 * ModelManual.m[0]/ModelManual.m[1]) * X[:, 0])"
      ]
    },
    {
      "cell_type": "code",
      "execution_count": 16,
      "metadata": {
        "colab": {
          "base_uri": "https://localhost:8080/",
          "height": 282
        },
        "id": "oyx5fkftZAU9",
        "outputId": "aa4c603f-d9f4-46e5-dad6-02130eabaa16"
      },
      "outputs": [
        {
          "data": {
            "text/plain": [
              "<AxesSubplot:>"
            ]
          },
          "execution_count": 16,
          "metadata": {},
          "output_type": "execute_result"
        },
        {
          "data": {
            "image/png": "[encoded data removed]",
            "text/plain": [
              "<Figure size 432x288 with 1 Axes>"
            ]
          },
          "metadata": {
            "needs_background": "light"
          },
          "output_type": "display_data"
        }
      ],
      "source": [
        "Line1 = BoundaryDecisionLine(X_train)\n",
        "\n",
        "sns.scatterplot(x=X_train[:, 0], y=X_train[:, 1], hue=y_train, s=100)\n",
        "sns.lineplot(x=X_train[:, 0], y=Line1, label='Boundary Decision', color='red')"
      ]
    },
    {
      "cell_type": "markdown",
      "metadata": {
        "id": "tdHCYem1cAON"
      },
      "source": [
        "# Boundary Decision yang didapatkan berdasarkan m dan bias untuk data Testing"
      ]
    },
    {
      "cell_type": "code",
      "execution_count": 17,
      "metadata": {
        "colab": {
          "base_uri": "https://localhost:8080/",
          "height": 282
        },
        "id": "DaGxkoqIZNkx",
        "outputId": "ffc913c8-3ccf-445c-c56e-6da84d16d0fd"
      },
      "outputs": [
        {
          "data": {
            "text/plain": [
              "<AxesSubplot:>"
            ]
          },
          "execution_count": 17,
          "metadata": {},
          "output_type": "execute_result"
        },
        {
          "data": {
            "image/png": "[encoded data removed]",
            "text/plain": [
              "<Figure size 432x288 with 1 Axes>"
            ]
          },
          "metadata": {
            "needs_background": "light"
          },
          "output_type": "display_data"
        }
      ],
      "source": [
        "Line2 = BoundaryDecisionLine(X_test)\n",
        "\n",
        "sns.scatterplot(x=X_test[:, 0], y=X_test[:, 1], hue=y_tresholdtest, s=100)\n",
        "sns.lineplot(x=X_test[:, 0], y=Line2, label='Boundary Decision', color='red')\n"
      ]
    },
    {
      "cell_type": "markdown",
      "metadata": {
        "id": "BIYCsij-cM4a"
      },
      "source": [
        "# Boundary Decision yang didapatkan berdasarkan m dan bias untuk data gabungan training dan testing"
      ]
    },
    {
      "cell_type": "code",
      "execution_count": 18,
      "metadata": {
        "colab": {
          "base_uri": "https://localhost:8080/",
          "height": 282
        },
        "id": "EZXdQqzmSL4S",
        "outputId": "70108cd1-18a8-4209-da0e-b31088d743e5"
      },
      "outputs": [
        {
          "data": {
            "text/plain": [
              "<AxesSubplot:>"
            ]
          },
          "execution_count": 18,
          "metadata": {},
          "output_type": "execute_result"
        },
        {
          "data": {
            "image/png": "[encoded data removed]",
            "text/plain": [
              "<Figure size 432x288 with 1 Axes>"
            ]
          },
          "metadata": {
            "needs_background": "light"
          },
          "output_type": "display_data"
        }
      ],
      "source": [
        "Line3 = BoundaryDecisionLine(arrayX_all)\n",
        "\n",
        "sns.scatterplot(x=arrayX_all[:, 0], y=arrayX_all[:, 1], hue=arrayY_all, s=100)\n",
        "sns.lineplot(x=arrayX_all[:, 0], y=Line3, label='Boundary Decision', color='red')"
      ]
    }
  ],
  "metadata": {
    "colab": {
      "collapsed_sections": [],
      "name": "Program Manual Counting.ipynb",
      "provenance": []
    },
    "interpreter": {
      "hash": "63fd5069d213b44bf678585dea6b12cceca9941eaf7f819626cde1f2670de90d"
    },
    "kernelspec": {
      "display_name": "Python 3.9.5 64-bit",
      "language": "python",
      "name": "python3"
    },
    "language_info": {
      "codemirror_mode": {
        "name": "ipython",
        "version": 3
      },
      "file_extension": ".py",
      "mimetype": "text/x-python",
      "name": "python",
      "nbconvert_exporter": "python",
      "pygments_lexer": "ipython3",
      "version": "3.9.5"
    }
  },
  "nbformat": 4,
  "nbformat_minor": 0
}
